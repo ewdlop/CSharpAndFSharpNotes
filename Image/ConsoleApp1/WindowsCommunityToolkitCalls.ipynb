{
 "cells": [
  {
   "cell_type": "code",
   "execution_count": null,
   "metadata": {
    "dotnet_interactive": {
     "language": "csharp"
    },
    "vscode": {
     "languageId": "dotnet-interactive.csharp"
    }
   },
   "outputs": [
    {
     "data": {
      "text/html": [
       "<div><div></div><div></div><div><strong>Installed Packages</strong><ul><li><span>CommunityToolkit.Common, 8.0.0</span></li><li><span>CommunityToolkit.Diagnostics, 8.0.0</span></li></ul></div></div>"
      ]
     },
     "metadata": {},
     "output_type": "display_data"
    }
   ],
   "source": [
    "#r \"nuget: CommunityToolkit.Common, 8.0.0\"\n",
    "#r \"nuget: CommunityToolkit.Diagnostics, 8.0.0\""
   ]
  },
  {
   "cell_type": "code",
   "execution_count": null,
   "metadata": {
    "dotnet_interactive": {
     "language": "csharp"
    },
    "vscode": {
     "languageId": "dotnet-interactive.csharp"
    }
   },
   "outputs": [],
   "source": [
    "using CommunityToolkit.Diagnostics;\n",
    "\n",
    "static void SampleMethod(int[] array, int index, Span<int> span, string text)\n",
    "{\n",
    "    // all Guard methods\n",
    "    Guard.IsNotNull(array, nameof(array));\n",
    "    Guard.HasSizeGreaterThanOrEqualTo(array, 10, nameof(array));\n",
    "    Guard.IsInRangeFor(index, array, nameof(index));\n",
    "    Guard.HasSizeLessThanOrEqualTo(array, span, nameof(span));\n",
    "    Guard.IsNotNullOrEmpty(text, nameof(text));\n",
    "    Guard.IsNullOrWhiteSpace((string)null, nameof(text));\n",
    "    Guard.IsNotNullOrWhiteSpace(text, nameof(text));\n",
    "    Guard.IsTrue(true);\n",
    "    Guard.IsFalse(false);\n",
    "\n",
    "    // all ThrowHelper methods\n",
    "    ThrowHelper.ThrowArgumentException();\n",
    "    ThrowHelper.ThrowArgumentNullException(nameof(array));\n",
    "    ThrowHelper.ThrowArgumentOutOfRangeException(nameof(index), index, \"index is out of range\");\n",
    "}"
   ]
  }
 ],
 "metadata": {
  "kernelspec": {
   "display_name": ".NET (C#)",
   "language": "C#",
   "name": ".net-csharp"
  },
  "language_info": {
   "name": "C#"
  }
 },
 "nbformat": 4,
 "nbformat_minor": 2
}
