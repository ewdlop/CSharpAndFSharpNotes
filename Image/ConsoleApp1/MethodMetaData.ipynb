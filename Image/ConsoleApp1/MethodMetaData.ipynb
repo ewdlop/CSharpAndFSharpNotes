{
 "cells": [
  {
   "cell_type": "code",
   "execution_count": 3,
   "metadata": {
    "dotnet_interactive": {
     "language": "csharp"
    },
    "polyglot_notebook": {
     "kernelName": "csharp"
    }
   },
   "outputs": [],
   "source": [
    "using System;\n",
    "using System.Runtime.CompilerServices;"
   ]
  },
  {
   "cell_type": "code",
   "execution_count": 4,
   "metadata": {
    "dotnet_interactive": {
     "language": "csharp"
    },
    "polyglot_notebook": {
     "kernelName": "csharp"
    }
   },
   "outputs": [
    {
     "ename": "Error",
     "evalue": "(10,34): error CS0103: The name 'memberName' does not exist in the current context",
     "output_type": "error",
     "traceback": [
      "(10,34): error CS0103: The name 'memberName' does not exist in the current context"
     ]
    }
   ],
   "source": [
    "public class CallMethod\n",
    "{\n",
    "    public static void CallerMemberName([CallerMemberName] string memberName = default)\n",
    "    {\n",
    "        Console.WriteLine(memberName);\n",
    "    }\n",
    "\n",
    "    public static void CallerArgumentExpressionMethod(int number, [CallerArgumentExpression(\"number\")] string arugment = default)\n",
    "    {\n",
    "        Console.WriteLine(number);\n",
    "        Console.WriteLine(arugment);\n",
    "    }\n",
    "\n",
    "    public static void CallerFilePath([CallerFilePath] string filePath = default)\n",
    "    {\n",
    "        Console.WriteLine(filePath);\n",
    "    }\n",
    "\n",
    "        public static void CallerLineNumber([CallerLineNumber] int lineNumber = default)\n",
    "    {\n",
    "        Console.WriteLine(lineNumber);\n",
    "    }\n",
    "}"
   ]
  }
 ],
 "metadata": {
  "kernelspec": {
   "display_name": ".NET (C#)",
   "language": "C#",
   "name": ".net-csharp"
  },
  "polyglot_notebook": {
   "kernelInfo": {
    "defaultKernelName": "csharp",
    "items": [
     {
      "aliases": [
       "c#",
       "C#"
      ],
      "languageName": "C#",
      "name": "csharp"
     },
     {
      "aliases": [],
      "languageName": "Mermaid",
      "name": "mermaid"
     },
     {
      "aliases": [],
      "name": ".NET"
     },
     {
      "aliases": [
       "frontend"
      ],
      "name": "vscode"
     },
     {
      "aliases": [
       "f#",
       "F#"
      ],
      "languageName": "F#",
      "name": "fsharp"
     },
     {
      "aliases": [],
      "languageName": "HTML",
      "name": "html"
     },
     {
      "aliases": [
       "js"
      ],
      "languageName": "JavaScript",
      "name": "javascript"
     },
     {
      "aliases": [],
      "languageName": "KQL",
      "name": "kql"
     },
     {
      "aliases": [
       "powershell"
      ],
      "languageName": "PowerShell",
      "name": "pwsh"
     },
     {
      "aliases": [],
      "languageName": "SQL",
      "name": "sql"
     },
     {
      "aliases": [],
      "name": "value"
     },
     {
      "aliases": [],
      "name": "webview"
     }
    ]
   }
  }
 },
 "nbformat": 4,
 "nbformat_minor": 2
}
