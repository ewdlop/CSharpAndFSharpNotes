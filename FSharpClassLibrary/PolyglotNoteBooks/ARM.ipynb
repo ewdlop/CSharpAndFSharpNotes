{
 "cells": [
  {
   "cell_type": "code",
   "execution_count": 1,
   "metadata": {
    "dotnet_interactive": {
     "language": "fsharp"
    },
    "polyglot_notebook": {
     "kernelName": "fsharp"
    },
    "vscode": {
     "languageId": "polyglot-notebook"
    }
   },
   "outputs": [
    {
     "data": {
      "text/html": [
       "<div><div></div><div></div><div><strong>Installed Packages</strong><ul><li><span>Farmer, 1.7.29</span></li></ul></div></div>"
      ]
     },
     "metadata": {},
     "output_type": "display_data"
    }
   ],
   "source": [
    "#r \"nuget:Farmer\""
   ]
  },
  {
   "cell_type": "code",
   "execution_count": 6,
   "metadata": {
    "dotnet_interactive": {
     "language": "fsharp"
    },
    "polyglot_notebook": {
     "kernelName": "fsharp"
    },
    "vscode": {
     "languageId": "polyglot-notebook"
    }
   },
   "outputs": [],
   "source": [
    "open Farmer\n",
    "open Farmer.Builders\n",
    "\n",
    "let plan = servicePlan {\n",
    "    name \"theFarm\"\n",
    "    sku WebApp.Sku.F1\n",
    "}\n",
    "\n",
    "let ai = appInsights {\n",
    "    name \"insights\"\n",
    "}\n",
    "\n",
    "let planets = [ \"jupiter\"; \"mars\"; \"pluto\"; \"venus\" ]\n",
    "\n",
    "let webApps : IBuilder list = [\n",
    "    for planet in planets do\n",
    "        webApp {\n",
    "            name (\"mywebapp-\" + planet)\n",
    "            link_to_service_plan plan\n",
    "            link_to_app_insights ai\n",
    "        }\n",
    "]\n",
    "\n",
    "// Create a storage account with a container\n",
    "let myStorageAccount = storageAccount {\n",
    "    name \"myteststorage\"\n",
    "    add_public_container \"mycontainer\"\n",
    "}\n",
    "\n",
    "// Create a web app with application insights that's connected to the storage account.\n",
    "let myWebApp = webApp {\n",
    "    name \"mytestwebApp\"\n",
    "    setting \"storageKey\" myStorageAccount.Key\n",
    "}\n",
    "\n",
    "let database = sqlDb {\n",
    "    name \"isaacparseddata\"\n",
    "    sku Sql.DtuSku.S1\n",
    "}\n",
    "\n",
    "let transactionalDb = sqlServer {\n",
    "    name \"isaacetlserver\"\n",
    "    admin_username \"theadministrator\"\n",
    "    add_databases [ database ]\n",
    "}\n",
    "\n",
    "let etlProcessor = functions {\n",
    "    name \"isaacetlprocessor\"\n",
    "    storage_account_name \"isaacmydata\"\n",
    "    setting \"sql-conn\" (transactionalDb.ConnectionString database)\n",
    "}\n",
    "\n",
    "// Create an ARM template\n",
    "let deployment = arm {\n",
    "    location Location.NorthEurope\n",
    "    add_resources [\n",
    "        plan\n",
    "        ai\n",
    "        myStorageAccount\n",
    "        myWebApp\n",
    "        transactionalDb\n",
    "        etlProcessor\n",
    "    ]\n",
    "    add_resources webApps\n",
    "}\n",
    "\n",
    "\n",
    "// Deploy it to Azure!\n",
    "deployment\n",
    "|> Writer.quickWrite \"ARM/generatedByFarmer2\""
   ]
  }
 ],
 "metadata": {
  "language_info": {
   "name": "python"
  },
  "orig_nbformat": 4
 },
 "nbformat": 4,
 "nbformat_minor": 2
}
